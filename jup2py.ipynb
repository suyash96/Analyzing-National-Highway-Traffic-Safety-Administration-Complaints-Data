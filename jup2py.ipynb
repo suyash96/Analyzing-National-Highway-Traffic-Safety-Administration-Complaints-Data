{
 "cells": [
  {
   "cell_type": "code",
   "execution_count": 25,
   "metadata": {
    "collapsed": true
   },
   "outputs": [],
   "source": [
    "import json"
   ]
  },
  {
   "cell_type": "code",
   "execution_count": 26,
   "metadata": {
    "collapsed": true
   },
   "outputs": [],
   "source": [
    "nb_name = 'Project+02_Suyash+Singhal_50202693_Math448.ipynb'"
   ]
  },
  {
   "cell_type": "code",
   "execution_count": 27,
   "metadata": {},
   "outputs": [],
   "source": [
    "with open(nb_name) as f:\n",
    "    \n",
    "    nb = json.load(f)\n",
    "    #print(nb)\n",
    "    python_file = open(nb_name[:-6] + '.py','w')  # new file with same name as notebook but changing the extension\n",
    "    \n",
    "    \n",
    "    for c in nb['cells']:\n",
    "        python_file.write('\\n')\n",
    "        \n",
    "        if(c['cell_type']=='code'):\n",
    "            for cd in c['source']:\n",
    "                python_file.write(cd)\n",
    "                \n",
    "        if(c['cell_type']=='markdown'):\n",
    "            for cmnt in c['source']:\n",
    "                python_file.write(cmnt)\n",
    "                \n",
    "    python_file.close()\n",
    "        "
   ]
  }
 ],
 "metadata": {
  "kernelspec": {
   "display_name": "Python 3",
   "language": "python",
   "name": "python3"
  },
  "language_info": {
   "codemirror_mode": {
    "name": "ipython",
    "version": 3
   },
   "file_extension": ".py",
   "mimetype": "text/x-python",
   "name": "python",
   "nbconvert_exporter": "python",
   "pygments_lexer": "ipython3",
   "version": "3.6.3"
  }
 },
 "nbformat": 4,
 "nbformat_minor": 2
}
