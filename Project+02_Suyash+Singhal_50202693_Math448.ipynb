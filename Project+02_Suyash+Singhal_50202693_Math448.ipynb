{
 "cells": [
  {
   "cell_type": "markdown",
   "metadata": {},
   "source": [
    "# <center> Analyzing National Highway Traffic Safety Administration Complaints Data \n",
    " </center>\n",
    "\n"
   ]
  },
  {
   "cell_type": "markdown",
   "metadata": {},
   "source": [
    "####  Analyze some aspect that you find interesting of the complains of different car and manufacture (Mainly with in the years 2003-2007)"
   ]
  },
  {
   "cell_type": "markdown",
   "metadata": {},
   "source": [
    "# Introduction"
   ]
  },
  {
   "cell_type": "markdown",
   "metadata": {},
   "source": [
    "In this project we learn the importance of a data set and it's uses. **Data set** is a collection of data records for computer processing ,  where we can find insights by analysing the data set and also mark out our inferences from the results we just found, we learnt the concept of **Web scraping** which is a technique employed to extract large amounts of data from websites whereby the data is extracted and saved to a local file in your computer or to a database in table and can be displayed on a spread sheet "
   ]
  },
  {
   "cell_type": "markdown",
   "metadata": {},
   "source": [
    "In this project we were give access to **National Highway Traffic Safety Administration Complaints Data** , Our goal was to understand the data set and find out some interesting insights and patterns from the data set. \n",
    "\n",
    "\n"
   ]
  },
  {
   "cell_type": "markdown",
   "metadata": {},
   "source": [
    "First we start the project by analysing the data set we were given initially , we start web scraping the data , where our given focus is in the year 2003-2007 where the car manufacturers like honda ,chevrolet and nissan had complaints, where we take an account of every year the newer model facing issues by the people driving it and incase there are accident and injuries reported for the same .Interpreting the data like this we should be able to conclude which manufacturer had the least complaints / which car is the safest to drive."
   ]
  },
  {
   "cell_type": "markdown",
   "metadata": {},
   "source": [
    "## Necessary Modules"
   ]
  },
  {
   "cell_type": "code",
   "execution_count": 23,
   "metadata": {
    "collapsed": true
   },
   "outputs": [],
   "source": [
    "\n",
    "import requests as re\n",
    "import json\n",
    "import pandas as pd\n",
    "from io import StringIO as SIO"
   ]
  },
  {
   "cell_type": "markdown",
   "metadata": {},
   "source": [
    "## Dataset preparation \n"
   ]
  },
  {
   "cell_type": "code",
   "execution_count": 24,
   "metadata": {},
   "outputs": [],
   "source": [
    "url0 = 'http://www.nhtsa.gov/webapi/api/Complaints/vehicle/modelyear/{}/make/{}/model/{}?format=csv'\n",
    "years = [ '2003','2004','2005','2006','2007']\n",
    "make_model = ['chevrolet-Malibu','Nissan-Altima','Honda-Civic']\n",
    "df = pd.DataFrame()\n",
    "for year in years:\n",
    "    for i in range(3):\n",
    "        url = url0.format(year,make_model[i].split('-')[0],make_model[i].split('-')[1])\n",
    "        #print(url)\n",
    "        s = re.get(url).text  # this is a CSV string\n",
    "        \n",
    "        temp_df = pd.read_csv(SIO(s),usecols=[1,4,5,6,7,9,12,13,14])\n",
    "        df = df.append(temp_df,ignore_index=True)\n",
    "        \n",
    "        #print(df.shape)\n",
    "        #print(len(df.index))  #fastest than df.shape"
   ]
  },
  {
   "cell_type": "code",
   "execution_count": 25,
   "metadata": {},
   "outputs": [
    {
     "data": {
      "text/html": [
       "<div>\n",
       "<style>\n",
       "    .dataframe thead tr:only-child th {\n",
       "        text-align: right;\n",
       "    }\n",
       "\n",
       "    .dataframe thead th {\n",
       "        text-align: left;\n",
       "    }\n",
       "\n",
       "    .dataframe tbody tr th {\n",
       "        vertical-align: top;\n",
       "    }\n",
       "</style>\n",
       "<table border=\"1\" class=\"dataframe\">\n",
       "  <thead>\n",
       "    <tr style=\"text-align: right;\">\n",
       "      <th></th>\n",
       "      <th>MFR_NAME</th>\n",
       "      <th>NUM_INJURED</th>\n",
       "      <th>NUM_DEATHS</th>\n",
       "      <th>INCIDENT_DT</th>\n",
       "      <th>RECVD_DT</th>\n",
       "      <th>COMPONENT</th>\n",
       "      <th>MODEL_YR</th>\n",
       "      <th>MAKE</th>\n",
       "      <th>MODEL</th>\n",
       "    </tr>\n",
       "  </thead>\n",
       "  <tbody>\n",
       "    <tr>\n",
       "      <th>0</th>\n",
       "      <td>General Motors LLC</td>\n",
       "      <td>0</td>\n",
       "      <td>0</td>\n",
       "      <td>2005-05-19</td>\n",
       "      <td>2005-05-19T15:05:48Z</td>\n",
       "      <td>ELECTRICAL SYSTEM:IGNITION:ANTI-THEFT CONTROLLER</td>\n",
       "      <td>2003</td>\n",
       "      <td>CHEVROLET</td>\n",
       "      <td>MALIBU</td>\n",
       "    </tr>\n",
       "    <tr>\n",
       "      <th>1</th>\n",
       "      <td>General Motors LLC</td>\n",
       "      <td>0</td>\n",
       "      <td>0</td>\n",
       "      <td>2008-05-15</td>\n",
       "      <td>2008-05-26</td>\n",
       "      <td>ELECTRICAL SYSTEM</td>\n",
       "      <td>2003</td>\n",
       "      <td>CHEVROLET</td>\n",
       "      <td>MALIBU</td>\n",
       "    </tr>\n",
       "    <tr>\n",
       "      <th>2</th>\n",
       "      <td>General Motors LLC</td>\n",
       "      <td>0</td>\n",
       "      <td>0</td>\n",
       "      <td>2004-05-17</td>\n",
       "      <td>2004-10-15</td>\n",
       "      <td>ENGINE AND ENGINE COOLING</td>\n",
       "      <td>2003</td>\n",
       "      <td>CHEVROLET</td>\n",
       "      <td>MALIBU</td>\n",
       "    </tr>\n",
       "    <tr>\n",
       "      <th>3</th>\n",
       "      <td>General Motors LLC</td>\n",
       "      <td>0</td>\n",
       "      <td>0</td>\n",
       "      <td>2007-12-12</td>\n",
       "      <td>2011-07-20</td>\n",
       "      <td>EQUIPMENT:AIR CONDITIONER</td>\n",
       "      <td>2003</td>\n",
       "      <td>CHEVROLET</td>\n",
       "      <td>MALIBU</td>\n",
       "    </tr>\n",
       "    <tr>\n",
       "      <th>4</th>\n",
       "      <td>General Motors LLC</td>\n",
       "      <td>0</td>\n",
       "      <td>0</td>\n",
       "      <td>2013-08-14</td>\n",
       "      <td>2014-09-18</td>\n",
       "      <td>ELECTRICAL SYSTEM:IGNITION:SWITCH</td>\n",
       "      <td>2003</td>\n",
       "      <td>CHEVROLET</td>\n",
       "      <td>MALIBU</td>\n",
       "    </tr>\n",
       "  </tbody>\n",
       "</table>\n",
       "</div>"
      ],
      "text/plain": [
       "             MFR_NAME  NUM_INJURED  NUM_DEATHS INCIDENT_DT  \\\n",
       "0  General Motors LLC            0           0  2005-05-19   \n",
       "1  General Motors LLC            0           0  2008-05-15   \n",
       "2  General Motors LLC            0           0  2004-05-17   \n",
       "3  General Motors LLC            0           0  2007-12-12   \n",
       "4  General Motors LLC            0           0  2013-08-14   \n",
       "\n",
       "               RECVD_DT                                         COMPONENT  \\\n",
       "0  2005-05-19T15:05:48Z  ELECTRICAL SYSTEM:IGNITION:ANTI-THEFT CONTROLLER   \n",
       "1            2008-05-26                                 ELECTRICAL SYSTEM   \n",
       "2            2004-10-15                         ENGINE AND ENGINE COOLING   \n",
       "3            2011-07-20                         EQUIPMENT:AIR CONDITIONER   \n",
       "4            2014-09-18                 ELECTRICAL SYSTEM:IGNITION:SWITCH   \n",
       "\n",
       "   MODEL_YR       MAKE   MODEL  \n",
       "0      2003  CHEVROLET  MALIBU  \n",
       "1      2003  CHEVROLET  MALIBU  \n",
       "2      2003  CHEVROLET  MALIBU  \n",
       "3      2003  CHEVROLET  MALIBU  \n",
       "4      2003  CHEVROLET  MALIBU  "
      ]
     },
     "execution_count": 25,
     "metadata": {},
     "output_type": "execute_result"
    }
   ],
   "source": [
    "df.head()"
   ]
  },
  {
   "cell_type": "code",
   "execution_count": 26,
   "metadata": {
    "collapsed": true
   },
   "outputs": [],
   "source": [
    "df.columns = ['MFR','Injury_count','Death_count','Incident_date','Complaint_date','Components','Model_yr','Make','Model']"
   ]
  },
  {
   "cell_type": "code",
   "execution_count": 27,
   "metadata": {},
   "outputs": [
    {
     "data": {
      "text/html": [
       "<div>\n",
       "<style>\n",
       "    .dataframe thead tr:only-child th {\n",
       "        text-align: right;\n",
       "    }\n",
       "\n",
       "    .dataframe thead th {\n",
       "        text-align: left;\n",
       "    }\n",
       "\n",
       "    .dataframe tbody tr th {\n",
       "        vertical-align: top;\n",
       "    }\n",
       "</style>\n",
       "<table border=\"1\" class=\"dataframe\">\n",
       "  <thead>\n",
       "    <tr style=\"text-align: right;\">\n",
       "      <th></th>\n",
       "      <th>MFR</th>\n",
       "      <th>Injury_count</th>\n",
       "      <th>Death_count</th>\n",
       "      <th>Incident_date</th>\n",
       "      <th>Complaint_date</th>\n",
       "      <th>Components</th>\n",
       "      <th>Model_yr</th>\n",
       "      <th>Make</th>\n",
       "      <th>Model</th>\n",
       "    </tr>\n",
       "  </thead>\n",
       "  <tbody>\n",
       "    <tr>\n",
       "      <th>0</th>\n",
       "      <td>General Motors LLC</td>\n",
       "      <td>0</td>\n",
       "      <td>0</td>\n",
       "      <td>2005-05-19</td>\n",
       "      <td>2005-05-19T15:05:48Z</td>\n",
       "      <td>ELECTRICAL SYSTEM:IGNITION:ANTI-THEFT CONTROLLER</td>\n",
       "      <td>2003</td>\n",
       "      <td>CHEVROLET</td>\n",
       "      <td>MALIBU</td>\n",
       "    </tr>\n",
       "    <tr>\n",
       "      <th>1</th>\n",
       "      <td>General Motors LLC</td>\n",
       "      <td>0</td>\n",
       "      <td>0</td>\n",
       "      <td>2008-05-15</td>\n",
       "      <td>2008-05-26</td>\n",
       "      <td>ELECTRICAL SYSTEM</td>\n",
       "      <td>2003</td>\n",
       "      <td>CHEVROLET</td>\n",
       "      <td>MALIBU</td>\n",
       "    </tr>\n",
       "  </tbody>\n",
       "</table>\n",
       "</div>"
      ],
      "text/plain": [
       "                  MFR  Injury_count  Death_count Incident_date  \\\n",
       "0  General Motors LLC             0            0    2005-05-19   \n",
       "1  General Motors LLC             0            0    2008-05-15   \n",
       "\n",
       "         Complaint_date                                        Components  \\\n",
       "0  2005-05-19T15:05:48Z  ELECTRICAL SYSTEM:IGNITION:ANTI-THEFT CONTROLLER   \n",
       "1            2008-05-26                                 ELECTRICAL SYSTEM   \n",
       "\n",
       "   Model_yr       Make   Model  \n",
       "0      2003  CHEVROLET  MALIBU  \n",
       "1      2003  CHEVROLET  MALIBU  "
      ]
     },
     "execution_count": 27,
     "metadata": {},
     "output_type": "execute_result"
    }
   ],
   "source": [
    "df.head(2)"
   ]
  },
  {
   "cell_type": "code",
   "execution_count": 28,
   "metadata": {},
   "outputs": [
    {
     "data": {
      "text/plain": [
       "(11031, 9)"
      ]
     },
     "execution_count": 28,
     "metadata": {},
     "output_type": "execute_result"
    }
   ],
   "source": [
    "df.shape"
   ]
  },
  {
   "cell_type": "code",
   "execution_count": 29,
   "metadata": {
    "collapsed": true
   },
   "outputs": [],
   "source": [
    "df1 = df[['Make','Model','Model_yr']].groupby(['Make','Model','Model_yr']).size().reset_index(name='counts')"
   ]
  },
  {
   "cell_type": "code",
   "execution_count": 30,
   "metadata": {},
   "outputs": [
    {
     "name": "stdout",
     "output_type": "stream",
     "text": [
      "         Make   Model  Model_yr  counts\n",
      "0   CHEVROLET  MALIBU      2003     544\n",
      "1   CHEVROLET  MALIBU      2004    1077\n",
      "2   CHEVROLET  MALIBU      2005     867\n",
      "3   CHEVROLET  MALIBU      2006     936\n",
      "4   CHEVROLET  MALIBU      2007     822\n",
      "5       HONDA   CIVIC      2003     458\n",
      "6       HONDA   CIVIC      2004     319\n",
      "7       HONDA   CIVIC      2005     277\n",
      "8       HONDA   CIVIC      2006    1296\n",
      "9       HONDA   CIVIC      2007    1087\n",
      "10     NISSAN  ALTIMA      2003     866\n",
      "11     NISSAN  ALTIMA      2004     272\n",
      "12     NISSAN  ALTIMA      2005    1029\n",
      "13     NISSAN  ALTIMA      2006     764\n",
      "14     NISSAN  ALTIMA      2007     417\n"
     ]
    }
   ],
   "source": [
    "print(df1)"
   ]
  },
  {
   "cell_type": "code",
   "execution_count": 31,
   "metadata": {},
   "outputs": [
    {
     "data": {
      "text/plain": [
       "<matplotlib.axes._subplots.AxesSubplot at 0x146c399cda0>"
      ]
     },
     "execution_count": 31,
     "metadata": {},
     "output_type": "execute_result"
    },
    {
     "data": {
      "image/png": "[encoded data removed]",
      "text/plain": [
       "<matplotlib.figure.Figure at 0x146c3bebc50>"
      ]
     },
     "metadata": {},
     "output_type": "display_data"
    }
   ],
   "source": [
    "get_ipython().run_line_magic('matplotlib', 'inline')\n",
    "df1[(df1.Make == 'CHEVROLET') & (df1.Model == 'MALIBU')].counts.plot(kind='bar', title =\"Chevrolet_Malibu\", figsize=(8,8))"
   ]
  },
  {
   "cell_type": "markdown",
   "metadata": {},
   "source": [
    "** No.of years 0=2003,1=2004,2=2005,3=2006,4=2007**"
   ]
  },
  {
   "cell_type": "markdown",
   "metadata": {},
   "source": [
    "In the graph above we see the number of complaints of the **Chevrolet malibu** over the year where we each year , each model of the car always had complaint , 2004 they had the most complaints , where as 2003 they had the least this is definately not a positive sign for any automobile company ."
   ]
  },
  {
   "cell_type": "code",
   "execution_count": 32,
   "metadata": {},
   "outputs": [
    {
     "data": {
      "text/plain": [
       "<matplotlib.axes._subplots.AxesSubplot at 0x146c3aae978>"
      ]
     },
     "execution_count": 32,
     "metadata": {},
     "output_type": "execute_result"
    },
    {
     "data": {
      "image/png": "[encoded data removed]",
      "text/plain": [
       "<matplotlib.figure.Figure at 0x146c5e68278>"
      ]
     },
     "metadata": {},
     "output_type": "display_data"
    }
   ],
   "source": [
    "df1[(df1.Make == 'HONDA') & (df1.Model == 'CIVIC')].counts.plot(kind='bar', title =\"Honda_Civic\", figsize=(8,8))"
   ]
  },
  {
   "cell_type": "markdown",
   "metadata": {},
   "source": [
    "** No.of years 5=2003,6=2004,7=2005,8=2006,9=2007**"
   ]
  },
  {
   "cell_type": "markdown",
   "metadata": {},
   "source": [
    "In the graph above we see the number of complaints of the **Honda Civic** over the year where we each year , each model of the car always had complaint but very minimal comparing to the other data sets we notice ,but honda civiv in 2006 had the most number of complaints "
   ]
  },
  {
   "cell_type": "code",
   "execution_count": 33,
   "metadata": {},
   "outputs": [
    {
     "data": {
      "text/plain": [
       "<matplotlib.axes._subplots.AxesSubplot at 0x146c5ce14e0>"
      ]
     },
     "execution_count": 33,
     "metadata": {},
     "output_type": "execute_result"
    },
    {
     "data": {
      "image/png": "[encoded data removed]",
      "text/plain": [
       "<matplotlib.figure.Figure at 0x146c5d2eb70>"
      ]
     },
     "metadata": {},
     "output_type": "display_data"
    }
   ],
   "source": [
    "df1[(df1.Make == 'NISSAN') & (df1.Model == 'ALTIMA')].counts.plot(kind='bar', title =\"Nissan_Altima\", figsize=(8,8))"
   ]
  },
  {
   "cell_type": "markdown",
   "metadata": {},
   "source": [
    "** No.of years 10=2003,11=2004,12=2005,13=2006,14=2007**"
   ]
  },
  {
   "cell_type": "markdown",
   "metadata": {},
   "source": [
    "In the graph above we see the number of complaints of the **Nissan Altima** over the year where we each year , each model of the car always had complaint but very mixed combination range comparing to the other data sets we notice ,but Nissan altima  in 2005 had the most number of complaints . In 2004 had the least number of complaints ."
   ]
  },
  {
   "cell_type": "markdown",
   "metadata": {},
   "source": [
    "# Conclusion "
   ]
  },
  {
   "cell_type": "markdown",
   "metadata": {},
   "source": [
    "From this project we considered three different cars over the period of five years **chevrolet-Malibu','Nissan-Altima','Honda-Civic** where we look at the complains filed over the period of 5 years from **2003-2005** from the graph we plotted after comparing the graphs we notice that chevrolet had consistently the maximum complains, Nissan was in the middle, and the least complains were filed in Honda ."
   ]
  },
  {
   "cell_type": "markdown",
   "metadata": {},
   "source": [
    "## Sources "
   ]
  },
  {
   "cell_type": "markdown",
   "metadata": {},
   "source": [
    " https://www.usatoday.com/story/money/cars/ <br>\n",
    " \n",
    "https://www.dictionary.com/ <br>\n",
    "\n",
    "https://stackoverflow.com/,<br>\n",
    "\n",
    "https://geeksforgeeks.org/<br>\n"
   ]
  },
  {
   "cell_type": "code",
   "execution_count": null,
   "metadata": {
    "collapsed": true
   },
   "outputs": [],
   "source": []
  }
 ],
 "metadata": {
  "kernelspec": {
   "display_name": "Python 3",
   "language": "python",
   "name": "python3"
  },
  "language_info": {
   "codemirror_mode": {
    "name": "ipython",
    "version": 3
   },
   "file_extension": ".py",
   "mimetype": "text/x-python",
   "name": "python",
   "nbconvert_exporter": "python",
   "pygments_lexer": "ipython3",
   "version": "3.6.3"
  }
 },
 "nbformat": 4,
 "nbformat_minor": 2
}
